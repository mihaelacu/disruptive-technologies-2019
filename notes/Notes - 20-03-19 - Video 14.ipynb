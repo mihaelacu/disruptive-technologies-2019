{
 "cells": [
  {
   "cell_type": "markdown",
   "metadata": {},
   "source": [
    "# Video 14. Logistic Regression in Python\n",
    "***\n",
    "\n",
    "- Logistic Regression is one of the algorithms used for classification\n",
    "- Other classification algorithms:\n",
    "    - Decision Trees\n",
    "    - K-Nearest Neighbors\n",
    "- Imagine it's been a few years since you serviced your car\n",
    "    - How long until card breaks down?\n",
    "    - Here's the graph showing probabilities of car breaking down after x years of service\n",
    "\n",
    "<div style=\"display: block;margin-left: auto;margin-right: auto;width: 100%;text-align: center;\">\n",
    "    <img src=\"img/200319/14.png\"><br><a href=\"https://youtu.be/XnOAdxOWXWg?list=PLEiEAq2VkUULYYgj13YHUWmRePqiu8Ddy\"><b>Image Source</b></a></div>\n",
    "\n",
    "- Probabiltiy goes from 0 to 1\n",
    "- The fewer the years since the last service, the lesser the probability of car breakdown\n",
    "- It is a classification algorithm, used to predict binary outcomes for a given set of independent variables. The dependent variable's outcome is discrete\n",
    "- Here's a visualization of how Logistic Regression would work:\n",
    "\n",
    "<div style=\"display: block;margin-left: auto;margin-right: auto;width: 100%;text-align: center;\">\n",
    "    <img src=\"img/200319/15.png\"><br><a href=\"https://youtu.be/XnOAdxOWXWg?list=PLEiEAq2VkUULYYgj13YHUWmRePqiu8Ddy\"><b>Image Source</b></a></div>\n",
    "    \n",
    "\n",
    "### From Linear to Logistic Regression\n",
    "- Here are two graphs, showing employee rating on the x-axis and whether or not the employee got a promotion on the y-axis:\n",
    "\n",
    "<div style=\"display: block;margin-left: auto;margin-right: auto;width: 100%;text-align: center;\">\n",
    "    <img src=\"img/200319/16.png\"><br><a href=\"https://youtu.be/XnOAdxOWXWg?list=PLEiEAq2VkUULYYgj13YHUWmRePqiu8Ddy\"><b>Image Source</b></a></div>\n",
    "    \n",
    "- As we can see, the error value when using this type of data with linear regression would be huge\n",
    "- This is because the employee is either promoted or isn't, there's nothing in between\n",
    "- For this cases, when the dependent variable is categorical, we use logistic regression\n",
    "\n",
    "\n",
    "### The Math behing Logistic Regression\n",
    "- To understand Logistic Regression, let's talk about the odds of success\n",
    "- We can get concrete probability of something happening if we divide the probability of event happening with probability of event not happening\n",
    "- Mathematically:\n",
    "\n",
    "$$ \\large Odds (\\theta) = \\frac{p}{1 - p} $$\n",
    "\n",
    "- The value of odds range from 0 to $ \\infty $\n",
    "- The values of probability change from 0 to 1\n",
    "- Remember the equation of the straight line\n",
    "    - $ \\beta_0 $ is the y-intercept\n",
    "    - $ \\beta_1 $ is the slope of the line\n",
    "    - $ x $ is the valur of the x coordinate\n",
    "    - $ y $ is the value of the prediction\n",
    "    - EQUATION: $ y = \\beta_0 + \\beta_1 x $\n",
    "- If we take the equation for the odds of event happening and combine it with the straight line equation:\n",
    "\n",
    "$$ \\log(\\frac{p(x)}{1 - p(x)}) = \\beta_0 + \\beta_1 x $$\n",
    "\n",
    "Exponentiating both sides gets to:\n",
    "\n",
    "$$ e^{ln}(\\frac{p(x)}{1-p(x)}) = e^{\\beta_0 + \\beta_1 x} $$<br>\n",
    "$$ (\\frac{p(x)}{1-p(x)}) = e^{\\beta_0 + \\beta_1 x} $$\n",
    "\n",
    "Let Y = $ e^{\\beta_0 + \\beta_1 x} $\n",
    "\n",
    "Then $ \\frac{p(x)}{1 - p(x)} = Y $\n",
    "\n",
    "$$ p(x) = Y(1 - p(x)) $$<br>\n",
    "$$ p(x) = Y - Y(p(x)) $$<br>\n",
    "$$ p(x) + Y(p(x)) = Y $$<br>\n",
    "$$ p(x)(1 + Y) = Y $$<br>\n",
    "$$ p(x) = \\frac{Y}{1 + Y} $$<br>\n",
    "$$ p(x) = \\frac{e^{\\beta_0 + \\beta_1 x}}{1 + e^{\\beta_0 + \\beta_1 x}} $$<br>\n",
    "\n",
    "The equation of a sigmoid function:\n",
    "\n",
    "$$ p(x) = \\frac{e^{\\beta_0 + \\beta_1 x}}{1 + e^{\\beta_0 + \\beta_1 x}} $$<br>\n",
    "$$ p(x) = \\frac{1}{1 + e^{-(\\beta_0 + \\beta_1 x)}} $$<br>\n",
    "\n",
    "- When this is plotted, a sigmoid curve is obtained:\n",
    "\n",
    "<div style=\"display: block;margin-left: auto;margin-right: auto;width: 100%;text-align: center;\">\n",
    "    <img src=\"img/200319/17.png\"><br><a href=\"https://youtu.be/XnOAdxOWXWg?list=PLEiEAq2VkUULYYgj13YHUWmRePqiu8Ddy\"><b>Image Source</b></a></div>\n",
    "    \n",
    "    \n",
    "## Use Case - Number Prediction"
   ]
  },
  {
   "cell_type": "code",
   "execution_count": 2,
   "metadata": {},
   "outputs": [],
   "source": [
    "from sklearn.datasets import load_digits\n",
    "from sklearn.model_selection import train_test_split\n",
    "from sklearn import metrics\n",
    "\n",
    "import numpy as np\n",
    "import matplotlib.pyplot as plt\n",
    "import seaborn as sns\n",
    "%matplotlib inline"
   ]
  },
  {
   "cell_type": "code",
   "execution_count": 3,
   "metadata": {},
   "outputs": [],
   "source": [
    "digits = load_digits()"
   ]
  },
  {
   "cell_type": "code",
   "execution_count": 4,
   "metadata": {},
   "outputs": [
    {
     "name": "stdout",
     "output_type": "stream",
     "text": [
      "Image Data Shape: (1797, 64)\n",
      "Label Data Shape: (1797,)\n"
     ]
    }
   ],
   "source": [
    "print(\"Image Data Shape: {}\".format(digits.data.shape))\n",
    "print(\"Label Data Shape: {}\".format(digits.target.shape))"
   ]
  },
  {
   "cell_type": "code",
   "execution_count": 5,
   "metadata": {},
   "outputs": [
    {
     "data": {
      "image/png": "[encoded data removed]",
      "text/plain": [
       "<Figure size 1440x288 with 5 Axes>"
      ]
     },
     "metadata": {
      "needs_background": "light"
     },
     "output_type": "display_data"
    }
   ],
   "source": [
    "plt.figure(figsize=(20, 4))\n",
    "\n",
    "for index, (image, label) in enumerate(zip(digits.data[0:5], digits.target[0:5])):\n",
    "    plt.subplot(1, 5, index + 1)\n",
    "    plt.imshow(np.reshape(image, (8, 8)), cmap=plt.cm.gray)\n",
    "    plt.title(\"Training: %i\\n\" % label, fontsize=20)"
   ]
  },
  {
   "cell_type": "code",
   "execution_count": 6,
   "metadata": {},
   "outputs": [],
   "source": [
    "X_train, X_test, y_train, y_test = train_test_split(digits.data, digits.target, test_size=0.25)"
   ]
  },
  {
   "cell_type": "code",
   "execution_count": 7,
   "metadata": {},
   "outputs": [
    {
     "data": {
      "text/plain": [
       "(1347, 64)"
      ]
     },
     "execution_count": 7,
     "metadata": {},
     "output_type": "execute_result"
    }
   ],
   "source": [
    "X_train.shape"
   ]
  },
  {
   "cell_type": "code",
   "execution_count": 8,
   "metadata": {},
   "outputs": [
    {
     "data": {
      "text/plain": [
       "(1347,)"
      ]
     },
     "execution_count": 8,
     "metadata": {},
     "output_type": "execute_result"
    }
   ],
   "source": [
    "y_train.shape"
   ]
  },
  {
   "cell_type": "code",
   "execution_count": 9,
   "metadata": {},
   "outputs": [
    {
     "data": {
      "text/plain": [
       "(450, 64)"
      ]
     },
     "execution_count": 9,
     "metadata": {},
     "output_type": "execute_result"
    }
   ],
   "source": [
    "X_test.shape"
   ]
  },
  {
   "cell_type": "code",
   "execution_count": 10,
   "metadata": {},
   "outputs": [
    {
     "data": {
      "text/plain": [
       "(450,)"
      ]
     },
     "execution_count": 10,
     "metadata": {},
     "output_type": "execute_result"
    }
   ],
   "source": [
    "y_test.shape"
   ]
  },
  {
   "cell_type": "code",
   "execution_count": 11,
   "metadata": {},
   "outputs": [
    {
     "name": "stderr",
     "output_type": "stream",
     "text": [
      "C:\\Users\\Dario\\Anaconda3\\lib\\site-packages\\sklearn\\linear_model\\logistic.py:433: FutureWarning: Default solver will be changed to 'lbfgs' in 0.22. Specify a solver to silence this warning.\n",
      "  FutureWarning)\n",
      "C:\\Users\\Dario\\Anaconda3\\lib\\site-packages\\sklearn\\linear_model\\logistic.py:460: FutureWarning: Default multi_class will be changed to 'auto' in 0.22. Specify the multi_class option to silence this warning.\n",
      "  \"this warning.\", FutureWarning)\n"
     ]
    },
    {
     "data": {
      "text/plain": [
       "LogisticRegression(C=1.0, class_weight=None, dual=False, fit_intercept=True,\n",
       "          intercept_scaling=1, max_iter=100, multi_class='warn',\n",
       "          n_jobs=None, penalty='l2', random_state=None, solver='warn',\n",
       "          tol=0.0001, verbose=0, warm_start=False)"
      ]
     },
     "execution_count": 11,
     "metadata": {},
     "output_type": "execute_result"
    }
   ],
   "source": [
    "from sklearn.linear_model import LogisticRegression\n",
    "\n",
    "log_reg = LogisticRegression()\n",
    "log_reg.fit(X_train, y_train)"
   ]
  },
  {
   "cell_type": "code",
   "execution_count": 12,
   "metadata": {},
   "outputs": [
    {
     "name": "stdout",
     "output_type": "stream",
     "text": [
      "[0]\n"
     ]
    }
   ],
   "source": [
    "print(log_reg.predict(X_test[0].reshape(1, -1)))"
   ]
  },
  {
   "cell_type": "code",
   "execution_count": 13,
   "metadata": {},
   "outputs": [
    {
     "data": {
      "text/plain": [
       "array([0, 3, 0, 9, 6, 4, 3, 3, 6, 7])"
      ]
     },
     "execution_count": 13,
     "metadata": {},
     "output_type": "execute_result"
    }
   ],
   "source": [
    "log_reg.predict(X_test[:10])"
   ]
  },
  {
   "cell_type": "code",
   "execution_count": 14,
   "metadata": {},
   "outputs": [
    {
     "data": {
      "text/plain": [
       "0.96"
      ]
     },
     "execution_count": 14,
     "metadata": {},
     "output_type": "execute_result"
    }
   ],
   "source": [
    "predictions = log_reg.predict(X_test)\n",
    "\n",
    "score = log_reg.score(X_test, y_test)\n",
    "score"
   ]
  },
  {
   "cell_type": "code",
   "execution_count": 15,
   "metadata": {},
   "outputs": [
    {
     "data": {
      "text/plain": [
       "Text(0.5, 1.0, 'Accuracy Score: 0.96')"
      ]
     },
     "execution_count": 15,
     "metadata": {},
     "output_type": "execute_result"
    },
    {
     "data": {
      "image/png": "[encoded data removed]",
      "text/plain": [
       "<Figure size 648x648 with 2 Axes>"
      ]
     },
     "metadata": {
      "needs_background": "light"
     },
     "output_type": "display_data"
    }
   ],
   "source": [
    "cm = metrics.confusion_matrix(y_test, predictions)\n",
    "\n",
    "plt.figure(figsize=(9, 9))\n",
    "sns.heatmap(cm, annot=True, fmt=\".3f\", linewidths=.5, square=True, cmap=\"Blues_r\")\n",
    "plt.ylabel(\"Actual label\")\n",
    "plt.xlabel(\"Predicted label\")\n",
    "all_sample_title = \"Accuracy Score: {}\".format(score)\n",
    "plt.title(all_sample_title, size=15)"
   ]
  }
 ],
 "metadata": {
  "kernelspec": {
   "display_name": "Python 3",
   "language": "python",
   "name": "python3"
  },
  "language_info": {
   "codemirror_mode": {
    "name": "ipython",
    "version": 3
   },
   "file_extension": ".py",
   "mimetype": "text/x-python",
   "name": "python",
   "nbconvert_exporter": "python",
   "pygments_lexer": "ipython3",
   "version": "3.6.8"
  }
 },
 "nbformat": 4,
 "nbformat_minor": 2
}
